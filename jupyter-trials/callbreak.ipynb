{
 "cells": [
  {
   "cell_type": "code",
   "execution_count": 1,
   "metadata": {},
   "outputs": [],
   "source": [
    "import random"
   ]
  },
  {
   "cell_type": "code",
   "execution_count": 4,
   "metadata": {},
   "outputs": [],
   "source": [
    "cards = ['AH', '2H', '3H', '4H', '5H', '6H', '7H', '8H', '9H', '10H', 'JH', 'QH', 'KH', \n",
    "        'AC', '2C', '3C', '4C', '5C', '6C', '7C', '8C', '9C', '10C', 'JC', 'QC', 'KC',\n",
    "        'AD', '2D', '3D', '4D', '5D', '6D', '7D', '8D', '9D', '10D', 'JD', 'QD', 'KD',\n",
    "        'AS', '2S', '3S', '4S', '5S', '6S', '7S', '8S', '9S', '10S', 'JS', 'QS', 'KS']"
   ]
  },
  {
   "cell_type": "code",
   "execution_count": 2,
   "metadata": {},
   "outputs": [],
   "source": [
    "def shuffle_deck(deck):\n",
    "    for i in range(len(deck)):\n",
    "        # generate a random index between i and the end of the deck\n",
    "        j = random.randint(i, len(deck)-1)\n",
    "        # swap the cards at positions i and j\n",
    "        deck[i], deck[j] = deck[j], deck[i]\n",
    "\n",
    "    return deck"
   ]
  },
  {
   "cell_type": "code",
   "execution_count": 5,
   "metadata": {},
   "outputs": [
    {
     "name": "stdout",
     "output_type": "stream",
     "text": [
      "['9C', 'JH', '3C', '4D', '6C', '8D', '4S', '6S', '8C', '2H', '6D', 'QS', '8S', '5C', '9H', '4C', '7H', '8H', '7S', 'KS', '3S', 'AH', '3H', 'AD', '6H', 'JD', '10C', 'QD', '4H', 'KC', 'AC', '9D', '10H', '2D', '5D', '5S', 'AS', 'KD', 'QC', 'JC', '3D', '10S', '7D', 'JS', '7C', 'QH', '2S', '2C', '9S', '5H', '10D', 'KH']\n"
     ]
    }
   ],
   "source": [
    "shuffled_deck = shuffle_deck(cards)\n",
    "print(shuffled_deck)"
   ]
  },
  {
   "cell_type": "code",
   "execution_count": 6,
   "metadata": {},
   "outputs": [],
   "source": [
    "hand1 = cards[:13]\n",
    "hand2 = cards[13:26]\n",
    "hand3 = cards[26:39]\n",
    "hand4 = cards[39:]"
   ]
  },
  {
   "cell_type": "code",
   "execution_count": 12,
   "metadata": {},
   "outputs": [],
   "source": [
    "def get_suit(a):\n",
    "    return a[1]\n",
    "\n",
    "def get_value(a):\n",
    "    return"
   ]
  },
  {
   "cell_type": "code",
   "execution_count": 14,
   "metadata": {},
   "outputs": [],
   "source": [
    "\n",
    "cardValueOrder = [\"A\", \"K\", \"Q\", \"J\", \"10\", \"9\", \"8\", \"7\", \"6\", \"5\", \"4\", \"3\", \"2\"]\n",
    "trumpSuit = \"S\"\n",
    "\n",
    "def compareSuits(self, a, b, suit_preference):\n",
    "    if a == trumpSuit and b == trumpSuit:\n",
    "        return 0\n",
    "    elif a == trumpSuit:\n",
    "        return 1\n",
    "    elif b == trumpSuit:\n",
    "        return -1\n",
    "    elif a == suit_preference and b == suit_preference:\n",
    "        return 0\n",
    "    elif a == suit_preference:\n",
    "        return 1\n",
    "    elif b == suit_preference:\n",
    "        return -1\n",
    "    else:\n",
    "        return 0\n",
    "\n",
    "def compareValues(self, a, b):\n",
    "    ai = cardValueOrder.indexOf(a)\n",
    "    bi = cardValueOrder.indexOf(b)\n",
    "    if ai < bi:\n",
    "        return 1\n",
    "    elif ai > bi:\n",
    "        return -1\n",
    "    else:\n",
    "        return 0 \n",
    "\n",
    "# suit_preference capture the suit that started the play\n",
    "def comparePlays(self, a, b, suit_preference):\n",
    "    x = compareSuit(get_suit(a), get_suit(b), suit_preference)\n",
    "    return x if x !=0 else compareValues(getValue(a), getValue(b))\n",
    "\n",
    "def getWinningPlay(self, plays):\n",
    "    for play1 in plays:\n",
    "        beats_all = True\n",
    "        for play2 in plays:\n",
    "            if play1 != play2 and self.comparePlay(play1, play2) == -1:\n",
    "                beats_all = False\n",
    "                break\n",
    "        if beats_all:\n",
    "            return play1\n",
    "    return None"
   ]
  }
 ],
 "metadata": {
  "kernelspec": {
   "display_name": "Python 3",
   "language": "python",
   "name": "python3"
  },
  "language_info": {
   "codemirror_mode": {
    "name": "ipython",
    "version": 3
   },
   "file_extension": ".py",
   "mimetype": "text/x-python",
   "name": "python",
   "nbconvert_exporter": "python",
   "pygments_lexer": "ipython3",
   "version": "3.11.0"
  },
  "orig_nbformat": 4
 },
 "nbformat": 4,
 "nbformat_minor": 2
}
